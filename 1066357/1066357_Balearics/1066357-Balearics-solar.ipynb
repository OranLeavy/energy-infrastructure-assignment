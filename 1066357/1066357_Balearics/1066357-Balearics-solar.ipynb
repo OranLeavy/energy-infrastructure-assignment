{
 "cells": [
  {
   "cell_type": "code",
   "execution_count": 1,
   "id": "31768a24",
   "metadata": {
    "id": "31768a24"
   },
   "outputs": [],
   "source": [
    "## Create network model for the Balearic Islands --- adding solar"
   ]
  },
  {
   "cell_type": "code",
   "execution_count": 2,
   "id": "tL_05A8YXl9n",
   "metadata": {
    "id": "tL_05A8YXl9n"
   },
   "outputs": [],
   "source": [
    "%%capture\n",
    "# install pandapower\n",
    "!pip install pandapower"
   ]
  },
  {
   "cell_type": "code",
   "execution_count": 3,
   "id": "7f5bdd78-3e00-41bf-a515-c97b75b122b8",
   "metadata": {
    "id": "7f5bdd78-3e00-41bf-a515-c97b75b122b8"
   },
   "outputs": [],
   "source": [
    "# imports\n",
    "import pandas as pd\n",
    "import pandapower as pp\n",
    "from pandapower.plotting.plotly import simple_plotly"
   ]
  },
  {
   "cell_type": "code",
   "execution_count": 4,
   "id": "ycAnXqWkgiNf",
   "metadata": {
    "colab": {
     "base_uri": "https://localhost:8080/"
    },
    "id": "ycAnXqWkgiNf",
    "outputId": "e40272e7-5036-4152-b0a2-bb2681c48bd9"
   },
   "outputs": [],
   "source": [
    "# path to folders with data\n",
    "drive_path = './'"
   ]
  },
  {
   "cell_type": "code",
   "execution_count": 5,
   "id": "uc0oNkLYfe4I",
   "metadata": {
    "colab": {
     "base_uri": "https://localhost:8080/",
     "height": 53
    },
    "id": "uc0oNkLYfe4I",
    "outputId": "caf258cd-a241-469a-e281-2acaccc1cb97"
   },
   "outputs": [
    {
     "data": {
      "text/plain": [
       "'The board is committed to at least 80% of the daily (24 hour) summer energy\\nto be supplied by solar PV on the Islands. Treat this exercise as if you are \\na consultant to Red Électricia de España (REE). The results are to be presented\\nto the REE Board.'"
      ]
     },
     "execution_count": 5,
     "metadata": {},
     "output_type": "execute_result"
    }
   ],
   "source": [
    "'''The board is committed to at least 80% of the daily (24 hour) summer energy\n",
    "to be supplied by solar PV on the Islands. Treat this exercise as if you are \n",
    "a consultant to Red Électricia de España (REE). The results are to be presented\n",
    "to the REE Board.'''\n",
    "\n",
    "# summer scenario  --- we are running this scenario below\n",
    "  # date = 9 Aug 2019 @ 13:31\n",
    "  # max demand = 1303 MW\n",
    "\n",
    "# need 3500 MW solar to supply 81% of energy in the highest demand summer day\n",
    "  # max net load @ 1 PM\n",
    "    # capacity factor = 74.8%\n",
    "  # scenario 1: ceteris paribus, add solar, curtail 30%\n",
    "  # scenario 2: add trafo at bus 1, add line, add solar\n",
    "  # scenario 3: add baterries, add solar"
   ]
  },
  {
   "cell_type": "code",
   "execution_count": 6,
   "id": "hBzGMQMnf6rA",
   "metadata": {
    "id": "hBzGMQMnf6rA"
   },
   "outputs": [],
   "source": [
    "# NOTE: we are using the biggest lines available (Condor), run code, then move to smaller lines if loading percent is too small"
   ]
  },
  {
   "cell_type": "code",
   "execution_count": 7,
   "id": "37fca963-4c79-4dc3-8504-04b05dfa179e",
   "metadata": {
    "id": "37fca963-4c79-4dc3-8504-04b05dfa179e"
   },
   "outputs": [],
   "source": [
    "# create network\n",
    "net = pp.create_empty_network() "
   ]
  },
  {
   "cell_type": "code",
   "execution_count": 8,
   "id": "8HFwH2UptmfX",
   "metadata": {
    "id": "8HFwH2UptmfX"
   },
   "outputs": [],
   "source": [
    "# read bus data -- columns: vn_kv, name, geodata\n",
    "bus_df = pd.read_csv(f'{drive_path}balearic_data_clean - buses.csv', encoding='latin-1')"
   ]
  },
  {
   "cell_type": "code",
   "execution_count": 9,
   "id": "PyckLijDtsaf",
   "metadata": {
    "id": "PyckLijDtsaf"
   },
   "outputs": [],
   "source": [
    "# create 18 buses\n",
    "b = {}\n",
    "\n",
    "for i in bus_df['bus_id']:\n",
    "  b[i] = pp.create_bus(net, vn_kv = bus_df.loc[bus_df['bus_id']==i, 'vn_kv'].values[0], name = bus_df.loc[bus_df['bus_id']==i, 'name'].values[0], geodata = eval(bus_df.loc[bus_df['bus_id']==i, 'geodata'].values[0]))"
   ]
  },
  {
   "cell_type": "code",
   "execution_count": 10,
   "id": "fiieHXXR1ClL",
   "metadata": {
    "colab": {
     "base_uri": "https://localhost:8080/"
    },
    "id": "fiieHXXR1ClL",
    "outputId": "9a08f461-4c6a-4bb0-a41f-335e3059cef0"
   },
   "outputs": [
    {
     "data": {
      "text/plain": [
       "0"
      ]
     },
     "execution_count": 10,
     "metadata": {},
     "output_type": "execute_result"
    }
   ],
   "source": [
    "# create one grid connection point\n",
    "connect_bus = b[1]\n",
    "vm_pu = 1\n",
    "\n",
    "pp.create_ext_grid(net, bus=connect_bus, vm_pu=vm_pu, name = \"Slack bus\")"
   ]
  },
  {
   "cell_type": "code",
   "execution_count": 11,
   "id": "_Vt4p2m8uzsv",
   "metadata": {
    "colab": {
     "base_uri": "https://localhost:8080/"
    },
    "id": "_Vt4p2m8uzsv",
    "outputId": "0185c365-807b-4eeb-a5ad-72560436c369"
   },
   "outputs": [
    {
     "data": {
      "text/plain": [
       "2"
      ]
     },
     "execution_count": 11,
     "metadata": {},
     "output_type": "execute_result"
    }
   ],
   "source": [
    "# create trafos\n",
    "\n",
    "# bus 1 Santa Ponca (132) / bus 2 Santa Ponca (220)\n",
    "hv_bus = net.bus[net.bus.name == 'Santa Ponca (220)'].index.values[0]\n",
    "lv_bus = net.bus[net.bus.name == 'Santa Ponca (132)'].index.values[0]\n",
    "# data from https://tinyurl.com/2p9xceax\n",
    "sn_mva = 320\n",
    "vn_hv_kv = 220\n",
    "vn_lv_kv = 132\n",
    "# used parameters from 100 MVA 220/110 kV standard type\n",
    "vk_percent = 12\n",
    "vkr_percent = 0.26\n",
    "pfe_kw = 55\n",
    "i0_percent = 0.06 \n",
    "pp.create_transformer_from_parameters(net, hv_bus=hv_bus, lv_bus=lv_bus, sn_mva=sn_mva, vn_hv_kv=vn_hv_kv, vn_lv_kv=vn_lv_kv, vkr_percent=vkr_percent, vk_percent=vk_percent, pfe_kw=pfe_kw, i0_percent=i0_percent)\n",
    "\n",
    "# bus 5\tPortol (Cas Tresorer) (220) / bus 5.1\tPortol (Cas Tresorer) (66)\n",
    "hv_bus = net.bus[net.bus.name == 'Portol (Cas Tresorer) (220)'].index.values[0]\n",
    "lv_bus = net.bus[net.bus.name == 'Portol (Cas Tresorer) (66)'].index.values[0]\n",
    "# data from https://www.ree.es/sites/default/files/01_ACTIVIDADES/Documentos/Mapas-de-red/mapa_transporte_iberico_2018.pdf\n",
    "sn_mva = 480\n",
    "vn_hv_kv = 220\n",
    "vn_lv_kv = 66\n",
    "# used parameters from 100 MVA 220/110 kV standard type\n",
    "vk_percent = 12\n",
    "vkr_percent = 0.26\n",
    "pfe_kw = 55\n",
    "i0_percent = 0.06\n",
    "pp.create_transformer_from_parameters(net, hv_bus=hv_bus, lv_bus=lv_bus, sn_mva=sn_mva, vn_hv_kv=vn_hv_kv, vn_lv_kv=vn_lv_kv, vkr_percent=vkr_percent, vk_percent=vk_percent, pfe_kw=pfe_kw, i0_percent=i0_percent)\n",
    "\n",
    "\n",
    "# 10\tEs Bessons (220) / 11\tEs Bessons (132)\n",
    "hv_bus = net.bus[net.bus.name == 'Es Bessons (220)'].index.values[0]\n",
    "lv_bus = net.bus[net.bus.name == 'Es Bessons (132)'].index.values[0]\n",
    "# data from https://tinyurl.com/56sh33a9\n",
    "sn_mva = 446\n",
    "vn_hv_kv = 220\n",
    "vn_lv_kv = 132\n",
    "# used parameters from 100 MVA 220/110 kV standard type\n",
    "vk_percent = 12\n",
    "vkr_percent = 0.26\n",
    "pfe_kw = 55\n",
    "i0_percent = 0.06\n",
    "#pp.create_transformer(net, hv_bus=hv_bus, lv_bus=lv_bus, std_type='100 MVA 220/110 kV')\n",
    "pp.create_transformer_from_parameters(net, hv_bus=hv_bus, lv_bus=lv_bus, sn_mva=sn_mva, vn_hv_kv=vn_hv_kv, vn_lv_kv=vn_lv_kv, vkr_percent=vkr_percent, vk_percent=vk_percent, pfe_kw=pfe_kw, i0_percent=i0_percent)"
   ]
  },
  {
   "cell_type": "code",
   "execution_count": 12,
   "id": "p9kmkzif1GoZ",
   "metadata": {
    "id": "p9kmkzif1GoZ"
   },
   "outputs": [],
   "source": [
    "# read df for lines -- from_bus, to_bus, length_km, r_ohm_per_km, x_ohm_per_km, c_nf_per_km, max_i_ka\n",
    "line_df = pd.read_csv(f'{drive_path}balearic_data_clean - lines.csv', encoding='latin-1')"
   ]
  },
  {
   "cell_type": "code",
   "execution_count": 13,
   "id": "PQIyS5z0TXVm",
   "metadata": {
    "id": "PQIyS5z0TXVm"
   },
   "outputs": [],
   "source": [
    "# create lines\n",
    "for i in line_df.index:\n",
    "  pp.create_line_from_parameters(net, \n",
    "                                 from_bus=b[line_df.loc[i, 'from_bus']],\n",
    "                                 to_bus=b[line_df.loc[i, 'to_bus']],\n",
    "                                 length_km=line_df.loc[i, 'length_km'],\n",
    "                                 r_ohm_per_km=line_df.loc[i, 'r_ohm_per_km'],\n",
    "                                 x_ohm_per_km=line_df.loc[i, 'x_ohm_per_km'],\n",
    "                                 c_nf_per_km=line_df.loc[i, 'c_nf_per_km'],\n",
    "                                 max_i_ka=line_df.loc[i, 'max_i_ka']\n",
    "                                 ) "
   ]
  },
  {
   "cell_type": "code",
   "execution_count": 14,
   "id": "iTu1doft4a6H",
   "metadata": {
    "id": "iTu1doft4a6H"
   },
   "outputs": [],
   "source": [
    "# read df for loads -- geolocation, bus (nearest from geolocation), p_mw\n",
    "load_df = pd.read_csv(f'{drive_path}balearic_data_clean - loads.csv', encoding='latin-1').dropna()"
   ]
  },
  {
   "cell_type": "code",
   "execution_count": 15,
   "id": "aQWA6-sO4bE1",
   "metadata": {
    "id": "aQWA6-sO4bE1"
   },
   "outputs": [],
   "source": [
    "# create loads\n",
    "p_mw = 'summer_p_mw'\n",
    "q_mvar = 'summer_q_mvar'\n",
    "\n",
    "for i in load_df['bus_id']:\n",
    "  pp.create_load(net, \n",
    "                 b[i], \n",
    "                 p_mw=load_df.loc[load_df['bus_id']==i, p_mw].values[0], \n",
    "                 q_mvar=load_df.loc[load_df['bus_id']==i, q_mvar].values[0])"
   ]
  },
  {
   "cell_type": "code",
   "execution_count": 16,
   "id": "LuH1XSLEUIv7",
   "metadata": {
    "id": "LuH1XSLEUIv7"
   },
   "outputs": [],
   "source": [
    "# look at share of loads by bus\n",
    "\n",
    "load_share = load_df[['bus_id', p_mw]]\n",
    "load_share['share'] = load_share[p_mw].apply(lambda x: x / sum(load_share[p_mw]))\n",
    "load_dict = dict(zip(load_share['bus_id'], load_share['share']*4000))"
   ]
  },
  {
   "cell_type": "code",
   "execution_count": 17,
   "id": "uq_JI23gaq2D",
   "metadata": {
    "id": "uq_JI23gaq2D"
   },
   "outputs": [],
   "source": [
    "# choose scenario to run\n",
    "sc = 'sc1'"
   ]
  },
  {
   "cell_type": "code",
   "execution_count": 18,
   "id": "c314ca37-59a2-4293-832c-3dafc8c33f73",
   "metadata": {
    "id": "c314ca37-59a2-4293-832c-3dafc8c33f73"
   },
   "outputs": [],
   "source": [
    "# create solar gen \n",
    "# scenario 1: \n",
    "  # relies heavily on bus 0 (may impact tourism) and 1 for generation\n",
    "  # limiting factor is trafo 0\n",
    "  # need to curtail at least 30% of solar power\n",
    "\n",
    "\n",
    "if sc == 'sc1':\n",
    "\n",
    "  total_solar = 3500\n",
    "  max_solar_cf = 0.748\n",
    "  curtail = 0.25\n",
    "\n",
    "  gen_mw = {0.0: 500,\n",
    "            1.0: 650,\n",
    "            2.0: 150,\n",
    "            3.0: 150,\n",
    "            4.0: 150,\n",
    "            5.0: 150,\n",
    "            5.1: 100,\n",
    "            6.0: 200,\n",
    "            7.0: 200,\n",
    "            8.0: 200,\n",
    "            9.0: 200,\n",
    "            10.0: 300,\n",
    "            11.0: 300,\n",
    "            12.0: 50,\n",
    "            13.0: 50,\n",
    "            14.0: 50,\n",
    "            15.0: 50,\n",
    "            16.0: 50}\n",
    "\n",
    "  for i in gen_mw.keys():\n",
    "    pp.create_gen(net, \n",
    "                  b[i], \n",
    "                  p_mw = gen_mw[i]*max_solar_cf*(1-curtail), \n",
    "                  vm_pu=vm_pu)"
   ]
  },
  {
   "cell_type": "code",
   "execution_count": 19,
   "id": "oFVJYPhBNS2g",
   "metadata": {
    "id": "oFVJYPhBNS2g"
   },
   "outputs": [],
   "source": [
    "# create solar gen \n",
    "# scenario 2: \n",
    "  # add 320MVA for trafo 0\n",
    "  # add line from bus 2 to bus 3\n",
    "  # no curtailement\n",
    "  # max loading: line = 94.3%, trafo = 92.4%\n",
    "  # export power = 1528 MW\n",
    "  # relies heavily on bus 1 for generation\n",
    "\n",
    "if sc == 'sc2':\n",
    "\n",
    "  # add trafo for bus 1 Santa Ponca (132) / bus 2 Santa Ponca (220)\n",
    "  hv_bus = net.bus[net.bus.name == 'Santa Ponca (220)'].index.values[0]\n",
    "  lv_bus = net.bus[net.bus.name == 'Santa Ponca (132)'].index.values[0]\n",
    "  # data from https://tinyurl.com/2p9xceax\n",
    "  sn_mva = 320*1.5\n",
    "  vn_hv_kv = 220\n",
    "  vn_lv_kv = 132\n",
    "  # used parameters from 100 MVA 220/110 kV standard type\n",
    "  vk_percent = 12\n",
    "  vkr_percent = 0.26\n",
    "  pfe_kw = 55\n",
    "  i0_percent = 0.06 \n",
    "  pp.create_transformer_from_parameters(net, hv_bus=hv_bus, lv_bus=lv_bus, sn_mva=sn_mva, vn_hv_kv=vn_hv_kv, vn_lv_kv=vn_lv_kv, vkr_percent=vkr_percent, vk_percent=vk_percent, pfe_kw=pfe_kw, i0_percent=i0_percent)\n",
    "\n",
    "  # add line for scenario 2\n",
    "  for i in [1]:\n",
    "    pp.create_line_from_parameters(net, \n",
    "                                  from_bus=b[line_df.loc[i, 'from_bus']],\n",
    "                                  to_bus=b[line_df.loc[i, 'to_bus']],\n",
    "                                  length_km=line_df.loc[i, 'length_km'],\n",
    "                                  r_ohm_per_km=line_df.loc[i, 'r_ohm_per_km'],\n",
    "                                  x_ohm_per_km=line_df.loc[i, 'x_ohm_per_km'],\n",
    "                                  c_nf_per_km=line_df.loc[i, 'c_nf_per_km'],\n",
    "                                  max_i_ka=line_df.loc[i, 'max_i_ka']\n",
    "                                  ) \n",
    "\n",
    "  total_solar = 3500\n",
    "  max_solar_cf = 0.748\n",
    "  curtail = 0.0\n",
    "\n",
    "  gen_mw = {0.0: 350,\n",
    "            1.0: 750,\n",
    "            2.0: 200,\n",
    "            3.0: 200,\n",
    "            4.0: 200,\n",
    "            5.0: 200,\n",
    "            5.1: 150,\n",
    "            6.0: 200,\n",
    "            7.0: 200,\n",
    "            8.0: 200,\n",
    "            9.0: 200,\n",
    "            10.0: 200,\n",
    "            11.0: 200,\n",
    "            12.0: 50,\n",
    "            13.0: 50,\n",
    "            14.0: 50,\n",
    "            15.0: 50,\n",
    "            16.0: 50}\n",
    "\n",
    "  for i in gen_mw.keys():\n",
    "    pp.create_gen(net, \n",
    "                  b[i], \n",
    "                  p_mw = gen_mw[i]*max_solar_cf*(1-curtail), \n",
    "                  vm_pu=vm_pu,   # defined above\n",
    "                  )\n"
   ]
  },
  {
   "cell_type": "code",
   "execution_count": 20,
   "id": "PC8CPr-PcMav",
   "metadata": {
    "id": "PC8CPr-PcMav"
   },
   "outputs": [],
   "source": [
    "# create solar gen \n",
    "# scenario 3:\n",
    "  # add batteries\n",
    "  # relies heavily on bus 1 for generation\n",
    "  # limiting factor is trafo 0\n",
    "\n",
    "if sc == 'sc3':\n",
    "\n",
    "  # add storage\n",
    "  duration = 4\n",
    "  s_mw = {0.0: 100,\n",
    "          1.0: 0,\n",
    "          2.0: 0,\n",
    "          3.0: 100,\n",
    "          4.0: 100,\n",
    "          5.0: 0,\n",
    "          5.1: 0,\n",
    "          6.0: 0,\n",
    "          7.0: 100,\n",
    "          8.0: 100,\n",
    "          9.0: 0,\n",
    "          10.0: 0,\n",
    "          11.0: 20,\n",
    "          12.0: 0,\n",
    "          13.0: 0,\n",
    "          14.0: 0,\n",
    "          15.0: 0,\n",
    "          16.0: 0}\n",
    "  \n",
    "  for i in s_mw.keys():\n",
    "    pp.create_storage(net, \n",
    "                      b[i], \n",
    "                      p_mw=s_mw[i], \n",
    "                      max_e_mwh=s_mw[i]*duration, \n",
    "                      )\n",
    "\n",
    "  # add solar\n",
    "  total_solar = 3500\n",
    "  max_solar_cf = 0.748\n",
    "  curtail = 0\n",
    "\n",
    "  gen_mw = {0.0: 500,\n",
    "            1.0: 650,\n",
    "            2.0: 150,\n",
    "            3.0: 150,\n",
    "            4.0: 150,\n",
    "            5.0: 150,\n",
    "            5.1: 100,\n",
    "            6.0: 200,\n",
    "            7.0: 200,\n",
    "            8.0: 200,\n",
    "            9.0: 200,\n",
    "            10.0: 300,\n",
    "            11.0: 300,\n",
    "            12.0: 50,\n",
    "            13.0: 50,\n",
    "            14.0: 50,\n",
    "            15.0: 50,\n",
    "            16.0: 50}\n",
    "\n",
    "  for i in gen_mw.keys():\n",
    "    pp.create_gen(net, \n",
    "                  b[i], \n",
    "                  p_mw = gen_mw[i]*max_solar_cf*(1-curtail), \n",
    "                  vm_pu=vm_pu)"
   ]
  },
  {
   "cell_type": "code",
   "execution_count": 21,
   "id": "4378578d-6676-41c3-98a1-aaa7575ed48c",
   "metadata": {
    "id": "4378578d-6676-41c3-98a1-aaa7575ed48c"
   },
   "outputs": [],
   "source": [
    "pp.runpp(net, algorithm='nr');"
   ]
  },
  {
   "cell_type": "code",
   "execution_count": 22,
   "id": "fKlv9sMkVdT-",
   "metadata": {
    "id": "fKlv9sMkVdT-"
   },
   "outputs": [],
   "source": [
    "simple_plotly(net)"
   ]
  },
  {
   "cell_type": "markdown",
   "id": "KOzkYc-Xv3aH",
   "metadata": {
    "id": "KOzkYc-Xv3aH"
   },
   "source": []
  },
  {
   "cell_type": "code",
   "execution_count": 23,
   "id": "8032a839-654b-4d67-b830-90d8d261f592",
   "metadata": {
    "colab": {
     "base_uri": "https://localhost:8080/"
    },
    "id": "8032a839-654b-4d67-b830-90d8d261f592",
    "outputId": "74bf4721-c079-4c0c-e3bf-265f9ce191c0"
   },
   "outputs": [
    {
     "name": "stdout",
     "output_type": "stream",
     "text": [
      "94.42342523626606\n"
     ]
    }
   ],
   "source": [
    "print(max(net.res_trafo.loading_percent))"
   ]
  },
  {
   "cell_type": "code",
   "execution_count": 24,
   "id": "M-Ks2UZFICCy",
   "metadata": {
    "colab": {
     "base_uri": "https://localhost:8080/"
    },
    "id": "M-Ks2UZFICCy",
    "outputId": "b510a8ac-f17a-43a6-e733-a17fbfc201f9"
   },
   "outputs": [
    {
     "name": "stdout",
     "output_type": "stream",
     "text": [
      "90.26635590083374\n"
     ]
    }
   ],
   "source": [
    "print(max(net.res_line.loading_percent))"
   ]
  },
  {
   "cell_type": "markdown",
   "id": "bTtEgEWsW7lO",
   "metadata": {
    "id": "bTtEgEWsW7lO"
   },
   "source": []
  },
  {
   "cell_type": "code",
   "execution_count": 25,
   "id": "_w3Pc276PRhu",
   "metadata": {
    "colab": {
     "base_uri": "https://localhost:8080/"
    },
    "id": "_w3Pc276PRhu",
    "outputId": "3cc17a20-8c16-4d1e-b4ce-9bcfbbc00d90"
   },
   "outputs": [
    {
     "name": "stdout",
     "output_type": "stream",
     "text": [
      "0   -652.987279\n",
      "Name: p_mw, dtype: float64\n"
     ]
    }
   ],
   "source": [
    "print(net.res_ext_grid.p_mw)"
   ]
  },
  {
   "cell_type": "code",
   "execution_count": 26,
   "id": "BudPiZZPf5HM",
   "metadata": {
    "colab": {
     "base_uri": "https://localhost:8080/",
     "height": 645
    },
    "id": "BudPiZZPf5HM",
    "outputId": "2db9c7fd-f4d1-4eff-f1b9-45496ded033a"
   },
   "outputs": [
    {
     "data": {
      "text/html": [
       "<div>\n",
       "<style scoped>\n",
       "    .dataframe tbody tr th:only-of-type {\n",
       "        vertical-align: middle;\n",
       "    }\n",
       "\n",
       "    .dataframe tbody tr th {\n",
       "        vertical-align: top;\n",
       "    }\n",
       "\n",
       "    .dataframe thead th {\n",
       "        text-align: right;\n",
       "    }\n",
       "</style>\n",
       "<table border=\"1\" class=\"dataframe\">\n",
       "  <thead>\n",
       "    <tr style=\"text-align: right;\">\n",
       "      <th></th>\n",
       "      <th>p_from_mw</th>\n",
       "      <th>q_from_mvar</th>\n",
       "      <th>p_to_mw</th>\n",
       "      <th>q_to_mvar</th>\n",
       "      <th>pl_mw</th>\n",
       "      <th>ql_mvar</th>\n",
       "      <th>i_from_ka</th>\n",
       "      <th>i_to_ka</th>\n",
       "      <th>i_ka</th>\n",
       "      <th>vm_from_pu</th>\n",
       "      <th>va_from_degree</th>\n",
       "      <th>vm_to_pu</th>\n",
       "      <th>va_to_degree</th>\n",
       "      <th>loading_percent</th>\n",
       "    </tr>\n",
       "  </thead>\n",
       "  <tbody>\n",
       "    <tr>\n",
       "      <th>0</th>\n",
       "      <td>105.070409</td>\n",
       "      <td>-40.135910</td>\n",
       "      <td>-100.221852</td>\n",
       "      <td>51.051567</td>\n",
       "      <td>4.848557</td>\n",
       "      <td>10.915657</td>\n",
       "      <td>0.491952</td>\n",
       "      <td>0.491952</td>\n",
       "      <td>0.491952</td>\n",
       "      <td>1.0</td>\n",
       "      <td>6.087250</td>\n",
       "      <td>1.0</td>\n",
       "      <td>0.000000</td>\n",
       "      <td>90.266356</td>\n",
       "    </tr>\n",
       "    <tr>\n",
       "      <th>1</th>\n",
       "      <td>-217.816542</td>\n",
       "      <td>9.118578</td>\n",
       "      <td>217.883287</td>\n",
       "      <td>-7.353064</td>\n",
       "      <td>0.066745</td>\n",
       "      <td>1.765514</td>\n",
       "      <td>0.572121</td>\n",
       "      <td>0.572121</td>\n",
       "      <td>0.572121</td>\n",
       "      <td>1.0</td>\n",
       "      <td>6.495006</td>\n",
       "      <td>1.0</td>\n",
       "      <td>6.959344</td>\n",
       "      <td>58.679062</td>\n",
       "    </tr>\n",
       "    <tr>\n",
       "      <th>2</th>\n",
       "      <td>-122.868297</td>\n",
       "      <td>10.051815</td>\n",
       "      <td>122.982832</td>\n",
       "      <td>-8.537001</td>\n",
       "      <td>0.114535</td>\n",
       "      <td>1.514814</td>\n",
       "      <td>0.323523</td>\n",
       "      <td>0.323523</td>\n",
       "      <td>0.323523</td>\n",
       "      <td>1.0</td>\n",
       "      <td>6.959344</td>\n",
       "      <td>1.0</td>\n",
       "      <td>7.665392</td>\n",
       "      <td>33.181835</td>\n",
       "    </tr>\n",
       "    <tr>\n",
       "      <th>3</th>\n",
       "      <td>-123.919616</td>\n",
       "      <td>10.137823</td>\n",
       "      <td>124.035131</td>\n",
       "      <td>-8.610047</td>\n",
       "      <td>0.115515</td>\n",
       "      <td>1.527776</td>\n",
       "      <td>0.326291</td>\n",
       "      <td>0.326291</td>\n",
       "      <td>0.326291</td>\n",
       "      <td>1.0</td>\n",
       "      <td>6.959344</td>\n",
       "      <td>1.0</td>\n",
       "      <td>7.665392</td>\n",
       "      <td>33.465755</td>\n",
       "    </tr>\n",
       "    <tr>\n",
       "      <th>4</th>\n",
       "      <td>-139.891309</td>\n",
       "      <td>11.195942</td>\n",
       "      <td>139.984345</td>\n",
       "      <td>-9.965469</td>\n",
       "      <td>0.093036</td>\n",
       "      <td>1.230473</td>\n",
       "      <td>0.368293</td>\n",
       "      <td>0.368293</td>\n",
       "      <td>0.368293</td>\n",
       "      <td>1.0</td>\n",
       "      <td>7.665392</td>\n",
       "      <td>1.0</td>\n",
       "      <td>8.169191</td>\n",
       "      <td>37.773678</td>\n",
       "    </tr>\n",
       "    <tr>\n",
       "      <th>5</th>\n",
       "      <td>-136.031280</td>\n",
       "      <td>12.390970</td>\n",
       "      <td>136.347885</td>\n",
       "      <td>-8.203632</td>\n",
       "      <td>0.316605</td>\n",
       "      <td>4.187339</td>\n",
       "      <td>0.358467</td>\n",
       "      <td>0.358467</td>\n",
       "      <td>0.358467</td>\n",
       "      <td>1.0</td>\n",
       "      <td>7.665392</td>\n",
       "      <td>1.0</td>\n",
       "      <td>9.426892</td>\n",
       "      <td>36.765895</td>\n",
       "    </tr>\n",
       "    <tr>\n",
       "      <th>6</th>\n",
       "      <td>-27.121159</td>\n",
       "      <td>2.061387</td>\n",
       "      <td>27.122776</td>\n",
       "      <td>-2.040000</td>\n",
       "      <td>0.001617</td>\n",
       "      <td>0.021387</td>\n",
       "      <td>0.071380</td>\n",
       "      <td>0.071380</td>\n",
       "      <td>0.071380</td>\n",
       "      <td>1.0</td>\n",
       "      <td>8.169191</td>\n",
       "      <td>1.0</td>\n",
       "      <td>8.214371</td>\n",
       "      <td>7.321013</td>\n",
       "    </tr>\n",
       "    <tr>\n",
       "      <th>7</th>\n",
       "      <td>-113.717812</td>\n",
       "      <td>9.854549</td>\n",
       "      <td>113.906715</td>\n",
       "      <td>-7.356152</td>\n",
       "      <td>0.188904</td>\n",
       "      <td>2.498397</td>\n",
       "      <td>0.299550</td>\n",
       "      <td>0.299550</td>\n",
       "      <td>0.299550</td>\n",
       "      <td>1.0</td>\n",
       "      <td>8.169191</td>\n",
       "      <td>1.0</td>\n",
       "      <td>9.426892</td>\n",
       "      <td>30.723109</td>\n",
       "    </tr>\n",
       "    <tr>\n",
       "      <th>8</th>\n",
       "      <td>0.418118</td>\n",
       "      <td>-0.031604</td>\n",
       "      <td>-0.418116</td>\n",
       "      <td>0.031624</td>\n",
       "      <td>0.000001</td>\n",
       "      <td>0.000020</td>\n",
       "      <td>0.001100</td>\n",
       "      <td>0.001100</td>\n",
       "      <td>0.001100</td>\n",
       "      <td>1.0</td>\n",
       "      <td>9.426892</td>\n",
       "      <td>1.0</td>\n",
       "      <td>9.424212</td>\n",
       "      <td>0.112862</td>\n",
       "    </tr>\n",
       "    <tr>\n",
       "      <th>9</th>\n",
       "      <td>0.436511</td>\n",
       "      <td>-0.032994</td>\n",
       "      <td>-0.436509</td>\n",
       "      <td>0.033015</td>\n",
       "      <td>0.000002</td>\n",
       "      <td>0.000020</td>\n",
       "      <td>0.001149</td>\n",
       "      <td>0.001149</td>\n",
       "      <td>0.001149</td>\n",
       "      <td>1.0</td>\n",
       "      <td>9.426892</td>\n",
       "      <td>1.0</td>\n",
       "      <td>9.424212</td>\n",
       "      <td>0.117827</td>\n",
       "    </tr>\n",
       "    <tr>\n",
       "      <th>10</th>\n",
       "      <td>-125.049358</td>\n",
       "      <td>10.252015</td>\n",
       "      <td>125.169199</td>\n",
       "      <td>-8.667022</td>\n",
       "      <td>0.119841</td>\n",
       "      <td>1.584993</td>\n",
       "      <td>0.329270</td>\n",
       "      <td>0.329270</td>\n",
       "      <td>0.329270</td>\n",
       "      <td>1.0</td>\n",
       "      <td>9.426892</td>\n",
       "      <td>1.0</td>\n",
       "      <td>10.152755</td>\n",
       "      <td>33.771331</td>\n",
       "    </tr>\n",
       "    <tr>\n",
       "      <th>11</th>\n",
       "      <td>-126.914497</td>\n",
       "      <td>10.404926</td>\n",
       "      <td>127.036125</td>\n",
       "      <td>-8.796293</td>\n",
       "      <td>0.121629</td>\n",
       "      <td>1.608634</td>\n",
       "      <td>0.334182</td>\n",
       "      <td>0.334182</td>\n",
       "      <td>0.334182</td>\n",
       "      <td>1.0</td>\n",
       "      <td>9.426892</td>\n",
       "      <td>1.0</td>\n",
       "      <td>10.152755</td>\n",
       "      <td>34.275038</td>\n",
       "    </tr>\n",
       "    <tr>\n",
       "      <th>12</th>\n",
       "      <td>-84.929434</td>\n",
       "      <td>8.676805</td>\n",
       "      <td>85.236882</td>\n",
       "      <td>-4.792671</td>\n",
       "      <td>0.307448</td>\n",
       "      <td>3.884133</td>\n",
       "      <td>0.373404</td>\n",
       "      <td>0.373404</td>\n",
       "      <td>0.373404</td>\n",
       "      <td>1.0</td>\n",
       "      <td>12.313428</td>\n",
       "      <td>1.0</td>\n",
       "      <td>14.928584</td>\n",
       "      <td>38.297799</td>\n",
       "    </tr>\n",
       "    <tr>\n",
       "      <th>13</th>\n",
       "      <td>-29.991507</td>\n",
       "      <td>13.556853</td>\n",
       "      <td>30.165956</td>\n",
       "      <td>-13.164112</td>\n",
       "      <td>0.174449</td>\n",
       "      <td>0.392741</td>\n",
       "      <td>0.143958</td>\n",
       "      <td>0.143958</td>\n",
       "      <td>0.143958</td>\n",
       "      <td>1.0</td>\n",
       "      <td>14.928584</td>\n",
       "      <td>1.0</td>\n",
       "      <td>15.676690</td>\n",
       "      <td>26.414297</td>\n",
       "    </tr>\n",
       "    <tr>\n",
       "      <th>14</th>\n",
       "      <td>-9.791001</td>\n",
       "      <td>0.782012</td>\n",
       "      <td>9.792103</td>\n",
       "      <td>-0.768084</td>\n",
       "      <td>0.001102</td>\n",
       "      <td>0.013927</td>\n",
       "      <td>0.042961</td>\n",
       "      <td>0.042961</td>\n",
       "      <td>0.042961</td>\n",
       "      <td>1.0</td>\n",
       "      <td>15.676690</td>\n",
       "      <td>1.0</td>\n",
       "      <td>15.758187</td>\n",
       "      <td>4.406246</td>\n",
       "    </tr>\n",
       "    <tr>\n",
       "      <th>15</th>\n",
       "      <td>-6.089426</td>\n",
       "      <td>0.493757</td>\n",
       "      <td>6.091275</td>\n",
       "      <td>-0.470404</td>\n",
       "      <td>0.001849</td>\n",
       "      <td>0.023353</td>\n",
       "      <td>0.026722</td>\n",
       "      <td>0.026722</td>\n",
       "      <td>0.026722</td>\n",
       "      <td>1.0</td>\n",
       "      <td>15.758187</td>\n",
       "      <td>1.0</td>\n",
       "      <td>15.977886</td>\n",
       "      <td>2.740692</td>\n",
       "    </tr>\n",
       "    <tr>\n",
       "      <th>16</th>\n",
       "      <td>-8.370296</td>\n",
       "      <td>0.675746</td>\n",
       "      <td>8.372372</td>\n",
       "      <td>-0.649516</td>\n",
       "      <td>0.002076</td>\n",
       "      <td>0.026231</td>\n",
       "      <td>0.036730</td>\n",
       "      <td>0.036730</td>\n",
       "      <td>0.036730</td>\n",
       "      <td>1.0</td>\n",
       "      <td>15.758187</td>\n",
       "      <td>1.0</td>\n",
       "      <td>15.937717</td>\n",
       "      <td>3.767145</td>\n",
       "    </tr>\n",
       "    <tr>\n",
       "      <th>17</th>\n",
       "      <td>-2.563555</td>\n",
       "      <td>0.203822</td>\n",
       "      <td>2.563698</td>\n",
       "      <td>-0.202025</td>\n",
       "      <td>0.000142</td>\n",
       "      <td>0.001797</td>\n",
       "      <td>0.011248</td>\n",
       "      <td>0.011248</td>\n",
       "      <td>0.011248</td>\n",
       "      <td>1.0</td>\n",
       "      <td>15.937717</td>\n",
       "      <td>1.0</td>\n",
       "      <td>15.977886</td>\n",
       "      <td>1.153644</td>\n",
       "    </tr>\n",
       "    <tr>\n",
       "      <th>18</th>\n",
       "      <td>3.790566</td>\n",
       "      <td>-0.299438</td>\n",
       "      <td>-3.790471</td>\n",
       "      <td>0.300637</td>\n",
       "      <td>0.000095</td>\n",
       "      <td>0.001199</td>\n",
       "      <td>0.016631</td>\n",
       "      <td>0.016631</td>\n",
       "      <td>0.016631</td>\n",
       "      <td>1.0</td>\n",
       "      <td>15.977886</td>\n",
       "      <td>1.0</td>\n",
       "      <td>15.959757</td>\n",
       "      <td>1.705751</td>\n",
       "    </tr>\n",
       "  </tbody>\n",
       "</table>\n",
       "</div>"
      ],
      "text/plain": [
       "     p_from_mw  q_from_mvar     p_to_mw  q_to_mvar     pl_mw    ql_mvar  \\\n",
       "0   105.070409   -40.135910 -100.221852  51.051567  4.848557  10.915657   \n",
       "1  -217.816542     9.118578  217.883287  -7.353064  0.066745   1.765514   \n",
       "2  -122.868297    10.051815  122.982832  -8.537001  0.114535   1.514814   \n",
       "3  -123.919616    10.137823  124.035131  -8.610047  0.115515   1.527776   \n",
       "4  -139.891309    11.195942  139.984345  -9.965469  0.093036   1.230473   \n",
       "5  -136.031280    12.390970  136.347885  -8.203632  0.316605   4.187339   \n",
       "6   -27.121159     2.061387   27.122776  -2.040000  0.001617   0.021387   \n",
       "7  -113.717812     9.854549  113.906715  -7.356152  0.188904   2.498397   \n",
       "8     0.418118    -0.031604   -0.418116   0.031624  0.000001   0.000020   \n",
       "9     0.436511    -0.032994   -0.436509   0.033015  0.000002   0.000020   \n",
       "10 -125.049358    10.252015  125.169199  -8.667022  0.119841   1.584993   \n",
       "11 -126.914497    10.404926  127.036125  -8.796293  0.121629   1.608634   \n",
       "12  -84.929434     8.676805   85.236882  -4.792671  0.307448   3.884133   \n",
       "13  -29.991507    13.556853   30.165956 -13.164112  0.174449   0.392741   \n",
       "14   -9.791001     0.782012    9.792103  -0.768084  0.001102   0.013927   \n",
       "15   -6.089426     0.493757    6.091275  -0.470404  0.001849   0.023353   \n",
       "16   -8.370296     0.675746    8.372372  -0.649516  0.002076   0.026231   \n",
       "17   -2.563555     0.203822    2.563698  -0.202025  0.000142   0.001797   \n",
       "18    3.790566    -0.299438   -3.790471   0.300637  0.000095   0.001199   \n",
       "\n",
       "    i_from_ka   i_to_ka      i_ka  vm_from_pu  va_from_degree  vm_to_pu  \\\n",
       "0    0.491952  0.491952  0.491952         1.0        6.087250       1.0   \n",
       "1    0.572121  0.572121  0.572121         1.0        6.495006       1.0   \n",
       "2    0.323523  0.323523  0.323523         1.0        6.959344       1.0   \n",
       "3    0.326291  0.326291  0.326291         1.0        6.959344       1.0   \n",
       "4    0.368293  0.368293  0.368293         1.0        7.665392       1.0   \n",
       "5    0.358467  0.358467  0.358467         1.0        7.665392       1.0   \n",
       "6    0.071380  0.071380  0.071380         1.0        8.169191       1.0   \n",
       "7    0.299550  0.299550  0.299550         1.0        8.169191       1.0   \n",
       "8    0.001100  0.001100  0.001100         1.0        9.426892       1.0   \n",
       "9    0.001149  0.001149  0.001149         1.0        9.426892       1.0   \n",
       "10   0.329270  0.329270  0.329270         1.0        9.426892       1.0   \n",
       "11   0.334182  0.334182  0.334182         1.0        9.426892       1.0   \n",
       "12   0.373404  0.373404  0.373404         1.0       12.313428       1.0   \n",
       "13   0.143958  0.143958  0.143958         1.0       14.928584       1.0   \n",
       "14   0.042961  0.042961  0.042961         1.0       15.676690       1.0   \n",
       "15   0.026722  0.026722  0.026722         1.0       15.758187       1.0   \n",
       "16   0.036730  0.036730  0.036730         1.0       15.758187       1.0   \n",
       "17   0.011248  0.011248  0.011248         1.0       15.937717       1.0   \n",
       "18   0.016631  0.016631  0.016631         1.0       15.977886       1.0   \n",
       "\n",
       "    va_to_degree  loading_percent  \n",
       "0       0.000000        90.266356  \n",
       "1       6.959344        58.679062  \n",
       "2       7.665392        33.181835  \n",
       "3       7.665392        33.465755  \n",
       "4       8.169191        37.773678  \n",
       "5       9.426892        36.765895  \n",
       "6       8.214371         7.321013  \n",
       "7       9.426892        30.723109  \n",
       "8       9.424212         0.112862  \n",
       "9       9.424212         0.117827  \n",
       "10     10.152755        33.771331  \n",
       "11     10.152755        34.275038  \n",
       "12     14.928584        38.297799  \n",
       "13     15.676690        26.414297  \n",
       "14     15.758187         4.406246  \n",
       "15     15.977886         2.740692  \n",
       "16     15.937717         3.767145  \n",
       "17     15.977886         1.153644  \n",
       "18     15.959757         1.705751  "
      ]
     },
     "execution_count": 26,
     "metadata": {},
     "output_type": "execute_result"
    }
   ],
   "source": [
    "net.res_line"
   ]
  },
  {
   "cell_type": "code",
   "execution_count": null,
   "id": "LGOIVSyEbA00",
   "metadata": {
    "id": "LGOIVSyEbA00"
   },
   "outputs": [],
   "source": []
  }
 ],
 "metadata": {
  "colab": {
   "collapsed_sections": [],
   "name": "solar_balearic_power_sharon.ipynb",
   "provenance": []
  },
  "kernelspec": {
   "display_name": "Python 3",
   "language": "python",
   "name": "python3"
  },
  "language_info": {
   "codemirror_mode": {
    "name": "ipython",
    "version": 3
   },
   "file_extension": ".py",
   "mimetype": "text/x-python",
   "name": "python",
   "nbconvert_exporter": "python",
   "pygments_lexer": "ipython3",
   "version": "3.8.8"
  }
 },
 "nbformat": 4,
 "nbformat_minor": 5
}
