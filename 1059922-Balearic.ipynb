{
 "cells": [
  {
   "cell_type": "code",
   "execution_count": null,
   "id": "764d8915",
   "metadata": {},
   "outputs": [],
   "source": [
    "# Energy Infrastructure\n",
    "# Part 1: Balearic Islands\n",
    "# Candidate Numbers: 1059922\n"
   ]
  },
  {
   "cell_type": "code",
   "execution_count": null,
   "id": "594575ef-3565-41d6-be8e-2189de786545",
   "metadata": {},
   "outputs": [],
   "source": [
    "# Step 1: Import of libraries \n",
    "\n",
    "import pandas as pd\n",
    "import pandapower as pp\n",
    "from pandapower import plotting\n",
    "from pandapower.plotting import simple_plotly, pf_res_plotly\n",
    "import geopandas as gpd\n",
    "import numpy as np\n",
    "import matplotlib.pyplot as plt\n",
    "from shapely.geometry import Point, LineString\n",
    "import math\n",
    "import numba\n",
    "import seaborn\n",
    "\n",
    "net = pp.create_empty_network() # creating network"
   ]
  },
  {
   "cell_type": "code",
   "execution_count": null,
   "id": "630db43d",
   "metadata": {
    "tags": []
   },
   "outputs": [],
   "source": [
    "#Step 2: Creation of Buses\n",
    "\n",
    "V_l_kv = 132 #kV\n",
    "V_h_kv = 220 #kV\n",
    "V_kv=66 #kV\n",
    "\n",
    "# A total of 18 buses are present in the balearic islands\n",
    "\n",
    "b0 = pp.create_bus(net,  vn_kv = V_l_kv,  name = \"Bus 0\", geodata = ((1.430833, 38.91917))) #  Ibiza +Formentura bus (this is the ibaza bus it is a load and a generator power from mallorca )\n",
    "b1 = pp.create_bus(net,  vn_kv = V_l_kv,  name = \"Bus 1_h\", geodata = ((2.506454, 39.53525))) # Santa Ponca bus (132)(slack bus that receives power from the mainland)\n",
    "b2 = pp.create_bus(net,  vn_kv = V_h_kv,  name = \"Bus 1_l\", geodata = ((2.507937, 39.53662))) # Santa Ponca bus (220)\n",
    "b3 = pp.create_bus(net,  vn_kv = V_h_kv,  name = \"Bus 2\", geodata = ((2.549167, 39.58417)))   # Valldurgent bus\n",
    "b4 = pp.create_bus(net,  vn_kv = V_h_kv,  name = \"Bus 3\", geodata = ((2.678889, 39.65083)))    # Son Reus \n",
    "b5= pp.create_bus(net,  vn_kv = V_h_kv,  name = \"Bus 4_h\", geodata = ((2.724617, 39.56686)))  # Portol bus (Cas tresorer) (220) \n",
    "b5_1 = pp.create_bus(net,  vn_kv = V_kv,  name = \"Bus 4_l\", geodata = ((2.724617, 39.56686)))  # Portol bus (Cas tresorer) (66)\n",
    "b6 = pp.create_bus(net,  vn_kv = V_h_kv,  name = \"Bus 5\", geodata = ((2.744444, 39.60028)))    # Son Orlandis bus \n",
    "b7 = pp.create_bus(net,  vn_kv = V_h_kv,  name = \"Bus 6\", geodata = ((3.039444, 39.67333)))    # Llubi bus\n",
    "b8 = pp.create_bus(net,  vn_kv = V_h_kv,  name = \"Bus 7\", geodata = ((3.0925, 39.80944)))     # Murterar bus\n",
    "b9 = pp.create_bus(net,  vn_kv = V_h_kv,  name = \"Bus 8_h\", geodata = ((3.158056, 39.58194)))   # Es Bessons bus (220)\n",
    "b10 = pp.create_bus(net, vn_kv = V_l_kv, name = \"Bus 8_l\", geodata = ((3.159638, 39.58209)))   # Es Bessons bus (132) \n",
    "b11= pp.create_bus(net, vn_kv = V_l_kv, name = \"Bus 9\", geodata = ((3.427024, 39.73827)))      # Cala Mesquida bus \n",
    "b12 = pp.create_bus(net, vn_kv = V_l_kv, name = \"Bus 10\", geodata = ((3.834227, 39.93175)))     # Cala en Bosch bus\n",
    "b13 = pp.create_bus(net, vn_kv = V_l_kv, name = \"Bus 11\", geodata = ((3.855278, 40.00333)))     # Cuitadella bus\n",
    "b14 = pp.create_bus(net, vn_kv = V_l_kv, name = \"Bus 12\", geodata = ((4.095556, 39.97694)))     # Es Mercadal bus\n",
    "b15 = pp.create_bus(net, vn_kv = V_l_kv, name = \"Bus 13\", geodata = ((4.236667, 39.89111)))     # Dragonera bus \n",
    "b16 = pp.create_bus(net, vn_kv = V_l_kv, name = \"Bus 14\", geodata = ((4.258155, 39.89706)))     # Mao bus\n",
    "\n",
    "\n",
    "\n",
    "\n",
    "net.bus\n"
   ]
  },
  {
   "cell_type": "code",
   "execution_count": null,
   "id": "b248278e-8007-4858-ad47-e80f3340fd57",
   "metadata": {},
   "outputs": [],
   "source": [
    "# STEP 3: Creation of loads \n",
    "\n",
    "#The load on each bus was calculated proportionally to the population of each island\n",
    "\n",
    "pp.create_load(net, bus=b0, p_mw = 175.42, q_mvar = 84.96)\n",
    "pp.create_load(net, bus=b1, p_mw = 113.05, q_mvar = 54.75)\n",
    "pp.create_load(net, bus=b3, p_mw = 113.05, q_mvar = 54.75)\n",
    "pp.create_load(net, bus=b4, p_mw = 113.05, q_mvar = 54.75)\n",
    "pp.create_load(net, bus=b5_1, p_mw = 113.05, q_mvar = 54.75)\n",
    "pp.create_load(net, bus=b6, p_mw = 113.05, q_mvar = 54.75)\n",
    "pp.create_load(net, bus=b7, p_mw = 113.05, q_mvar = 54.75)\n",
    "pp.create_load(net, bus=b8, p_mw = 113.05, q_mvar = 54.75)\n",
    "pp.create_load(net, bus=b10, p_mw = 113.05, q_mvar = 54.75)\n",
    "pp.create_load(net, bus=b11, p_mw = 113.05, q_mvar = 54.75)\n",
    "pp.create_load(net, bus=b12, p_mw = 7.67, q_mvar = 3.71)\n",
    "pp.create_load(net, bus=b13, p_mw = 32.71, q_mvar = 15.84)\n",
    "pp.create_load(net, bus=b14, p_mw = 22.24, q_mvar = 10.77)\n",
    "pp.create_load(net, bus=b15, p_mw = 15.60, q_mvar = 7.55)\n",
    "pp.create_load(net, bus=b16, p_mw = 31.84, q_mvar = 15.42)\n",
    "\n"
   ]
  },
  {
   "cell_type": "code",
   "execution_count": null,
   "id": "a6abe813-4b06-49bc-8cbc-5cacdae1baef",
   "metadata": {},
   "outputs": [],
   "source": [
    "\n",
    "# Solar Switch \n",
    "\n",
    "# By turning ON (1) the PV solar fields are taken into consideration in the power flow analysis\n",
    "# By turning OFF (0) the PV panels are not used, this represents the current power generation of the balearc islands \n",
    "\n",
    "solar = 0 # OFF=0 of ON=1"
   ]
  },
  {
   "cell_type": "code",
   "execution_count": null,
   "id": "fd5e3178-ebc4-4231-8f7a-f3e0b724c31b",
   "metadata": {},
   "outputs": [],
   "source": [
    "# Step 4: Creation of generators\n",
    "\n",
    "# The total amount of power generated was taken as the peak amount generated on the 9th of August 2019\n",
    "# The location and power capacity of the storage facilities and the solar farms were iterated until the power flow returned acceptable results\n",
    "#The total pwoer generated on the 9th of august is equivalent to 1296MW\n",
    "# Over 24hours this represents 31100 MWh\n",
    "# The Solar energy is required to meet 80% of that demand, therefor 24880MWh\n",
    "# Assuming the solar panels generate power at peak capaity for 9hours, the solar panels will need to have a total power capacity of 2760MW\n",
    "# It is assumed that the storage capacity represents nearly 50% of the power capacity on the island at 1605MW\n",
    "# Both generation sources on Ibiza, on bus 0, are maintained to supply the rest of the daily energy demand ie 20%\n",
    "# When the solar panels are added, the grid will have a total power capacity of 2990 MW\n",
    "\n",
    "if solar==0:\n",
    "    pp.create_gen(net, bus=b0, p_mw = 218.70, name = \"Elvissa, Ibiza\")\n",
    "    pp.create_gen(net, bus=b0, p_mw = 12, name = \"San Francesco, Ibiza\")\n",
    "    pp.create_gen(net, bus=b4, p_mw = 303.2, name = \"Son Reus, Mallorca\")\n",
    "    pp.create_gen(net, bus=b5, p_mw = 280.05, name = \"Cas Tresorer, Mallorca \")\n",
    "    pp.create_gen(net, bus=b8, p_mw = 369.53, name = \"Murterar, Mallorca\")\n",
    "    pp.create_gen(net, bus=b16, p_mw = 113.2, name = \"Mahon (Mao), Mernoca\")\n",
    "\n",
    "else:\n",
    "    pp.create_gen(net, bus=b0, p_mw = 218.70, name = \"Elvissa, Ibiza\")\n",
    "    pp.create_gen(net, bus=b0, p_mw = 12, name = \"San Francesco, Ibiza\")\n",
    "    pp.create_gen(net, bus=b0, p_mw = 60, name = \"Solar Field 1\")\n",
    "    pp.create_gen(net, bus=b4, p_mw = 150, name = \"Solar Field 2 \")\n",
    "    pp.create_gen(net, bus=b5, p_mw = 500, name = \"Solar Field 3\")\n",
    "    pp.create_gen(net, bus=b8, p_mw = 520, name = \"Solar Field 4 \")\n",
    "    pp.create_gen(net, bus=b7, p_mw = 570, name = \"Solar Field 5 \")\n",
    "    pp.create_gen(net, bus=b10, p_mw = 550, name = \"Solar Field 6 \")\n",
    "    pp.create_gen(net, bus=b14, p_mw = 400, name =\"Solar Field 7\")\n",
    "    pp.create_gen(net, bus=b6, p_mw = 10, name = \"Solar Field 8 \")\n",
    "    pp.create_storage(net, bus=b4, p_mw=350, max_e_mwh= 350*4,name = \"Storage 1\")\n",
    "    pp.create_storage(net, bus=b14, p_mw=170, max_e_mwh= 170*4,name = \"Storage 2\")\n",
    "    pp.create_storage(net, bus=b3, p_mw=300, max_e_mwh= 300*4,name = \"Storage 3\")\n",
    "    pp.create_storage(net, bus=b7, p_mw=340, max_e_mwh= 340*4,name = \"Storage 4\")\n",
    "    pp.create_storage(net, bus=b8, p_mw=345, max_e_mwh= 345*4,name = \"Storage 5\")\n",
    "    pp.create_storage(net, bus=b5, p_mw=200, max_e_mwh= 200*4,name = \"Storage 6\")\n",
    "\n",
    "\n",
    "# the Bus 1 located on Mallorca is a positive generator as it \"generates\" energy by receiving it from the mainland and sends it into the grid\n",
    "# it has an angle of 0 and all the other angles are relative to it \n",
    "pp.create_ext_grid(net, bus=b1, vm_pu=1.00, name=\"Slack bus\")\n"
   ]
  },
  {
   "cell_type": "code",
   "execution_count": null,
   "id": "9b00955a-255d-482c-ab96-cb62cae2b414",
   "metadata": {},
   "outputs": [],
   "source": [
    "# Step 5: Creation of transformers\n",
    "\n",
    "# Transformer 1 between bus 1 and bus 2\n",
    "#Santa Ponca (132kV) / Santa Ponca (220kV)\n",
    "# Parameters used from 100 MVA 220/110 kV standard type\n",
    "\n",
    "sn_mva = 320     \n",
    "vn_hv_kv = 132\n",
    "vn_lv_kv = 220\n",
    "vk_percent = 12\n",
    "vkr_percent = 0.26\n",
    "pfe_kw = 55\n",
    "i0_percent = 0.06 \n",
    "pp.create_transformer_from_parameters(net, hv_bus=b1, lv_bus=b2, sn_mva=sn_mva, vn_hv_kv=vn_hv_kv, vn_lv_kv=vn_lv_kv, vkr_percent=vkr_percent, vk_percent=vk_percent, pfe_kw=pfe_kw, i0_percent=i0_percent)\n",
    "\n",
    "# Transformer 2 form bus 5 to bus 5.1\n",
    "# Cas Tresorer (220kV) / Cas Tresorer (66kV)\n",
    "# Parameters used from 100 MVA 220/110 kV standard type\n",
    "\n",
    "sn_mva = 480\n",
    "vn_hv_kv = 220\n",
    "vn_lv_kv = 66\n",
    "vk_percent = 12\n",
    "vkr_percent = 0.26\n",
    "pfe_kw = 55\n",
    "i0_percent = 0.06\n",
    "pp.create_transformer_from_parameters(net, hv_bus=b5, lv_bus=b5_1, sn_mva=sn_mva, vn_hv_kv=vn_hv_kv, vn_lv_kv=vn_lv_kv, vkr_percent=vkr_percent, vk_percent=vk_percent, pfe_kw=pfe_kw, i0_percent=i0_percent)\n",
    "\n",
    "# Transformer 3 from bus 10 to bus 11\n",
    "# Bessons (220kV) /Es Bessons (132kV)\n",
    "# Parameters used from 100 MVA 220/110 kV standard type\n",
    "\n",
    "sn_mva = 446       \n",
    "vn_hv_kv = 220\n",
    "vn_lv_kv = 132\n",
    "vk_percent = 12\n",
    "vkr_percent = 0.26\n",
    "pfe_kw = 55\n",
    "i0_percent = 0.06\n",
    "pp.create_transformer_from_parameters(net, hv_bus=b9, lv_bus=b10, sn_mva=sn_mva, vn_hv_kv=vn_hv_kv, vn_lv_kv=vn_lv_kv, vkr_percent=vkr_percent, vk_percent=vk_percent, pfe_kw=pfe_kw, i0_percent=i0_percent)"
   ]
  },
  {
   "cell_type": "code",
   "execution_count": null,
   "id": "72baf237-e213-4ed3-a36a-1034407c12a9",
   "metadata": {},
   "outputs": [],
   "source": [
    "net.load"
   ]
  },
  {
   "cell_type": "code",
   "execution_count": null,
   "id": "d0d0349d-7718-4a59-9b8e-db72096d8de4",
   "metadata": {},
   "outputs": [],
   "source": [
    "net.gen"
   ]
  },
  {
   "cell_type": "code",
   "execution_count": null,
   "id": "744b9129-4435-4582-a39b-a10fe1ed77e9",
   "metadata": {},
   "outputs": [],
   "source": [
    "if solar ==1:\n",
    "    print(net.storage)"
   ]
  },
  {
   "cell_type": "code",
   "execution_count": null,
   "id": "51cb10d5-7f78-4e7a-b0a2-3fcbac9ea08f",
   "metadata": {},
   "outputs": [],
   "source": [
    "net.trafo"
   ]
  },
  {
   "cell_type": "code",
   "execution_count": null,
   "id": "c9fa67e1-5b59-4aac-b095-2f41b4fc73c0",
   "metadata": {},
   "outputs": [],
   "source": [
    "# Step 6: Creation of lines\n",
    "\n",
    "\n",
    "# Creation of the lines geodata\n",
    "\n",
    "loc_b0=(1.430833, 38.91917)\n",
    "loc_b1=(2.506454, 39.53525)\n",
    "loc_b2=(2.507937, 39.53662)\n",
    "loc_b3=(2.549167, 39.58417)\n",
    "loc_b4=(2.678889, 39.65083)\n",
    "loc_b5=(2.724617, 39.56686)\n",
    "loc_b5_1=(2.724617, 39.56686)\n",
    "loc_b6=(2.744444, 39.60028)\n",
    "loc_b7=(3.039444, 39.67333)\n",
    "loc_b8=(3.0925, 39.80944)\n",
    "loc_b9=(3.158056, 39.58194)\n",
    "loc_b10=(3.159638, 39.58209)\n",
    "loc_b11=(3.427024, 39.73827)\n",
    "loc_b12=(3.834227, 39.93175)\n",
    "loc_b13=(3.855278, 40.00333)\n",
    "loc_b14=(4.095556, 39.97694)\n",
    "loc_b15=(4.236667, 39.89111)\n",
    "loc_b16=(4.258155, 39.89706)\n",
    "\n",
    "r_ohm = 0.07283 # line resistance for Condor cables in ohm per km\n",
    "\n",
    "# The underwater cables connecting the islands between each other are XLPE submarine cables from ABB\n",
    "# The inland cables are \"Condor\" cables\n",
    "\n",
    "pp.create_line_from_parameters(net,from_bus=b0, to_bus=b1,length_km=126, r_ohm_per_km = 0.053, x_ohm_per_km = 0.119, c_nf_per_km = 1.7e-9, max_i_ka=0.545,geodata = [loc_b0, loc_b1])\n",
    "pp.create_line_from_parameters(net,from_bus=b2, to_bus=b3,length_km=5.599, r_ohm_per_km = r_ohm, x_ohm_per_km = 0.321, c_nf_per_km = 1e-9, max_i_ka=0.975,geodata = [loc_b2, loc_b3])\n",
    "pp.create_line_from_parameters(net,from_bus=b3, to_bus=b4,length_km=15.05, r_ohm_per_km = r_ohm, x_ohm_per_km = 0.321, c_nf_per_km = 1e-9, max_i_ka=0.975,geodata = [loc_b3, loc_b4])\n",
    "pp.create_line_from_parameters(net,from_bus=b4, to_bus=b6,length_km=9.41, r_ohm_per_km = r_ohm, x_ohm_per_km = 0.321, c_nf_per_km = 1e-9, max_i_ka=0.975,geodata = [loc_b4, loc_b6])\n",
    "pp.create_line_from_parameters(net,from_bus=b3, to_bus=b4,length_km=14.89, r_ohm_per_km = r_ohm, x_ohm_per_km = 0.321, c_nf_per_km = 1e-9, max_i_ka=0.975,geodata = [loc_b3, loc_b4])\n",
    "pp.create_line_from_parameters(net,from_bus=b6, to_bus=b5,length_km=4.357, r_ohm_per_km = r_ohm, x_ohm_per_km = 0.321, c_nf_per_km = 1e-9, max_i_ka=0.975,geodata = [loc_b6, loc_b5])\n",
    "pp.create_line_from_parameters(net,from_bus=b6, to_bus=b7,length_km=28.906, r_ohm_per_km = r_ohm, x_ohm_per_km = 0.321, c_nf_per_km = 1e-9, max_i_ka=0.975,geodata = [loc_b6, loc_b7])\n",
    "pp.create_line_from_parameters(net,from_bus=b4, to_bus=b7,length_km=33.830, r_ohm_per_km = r_ohm, x_ohm_per_km = 0.321, c_nf_per_km = 1e-9, max_i_ka=0.975,geodata = [loc_b4, loc_b7])\n",
    "pp.create_line_from_parameters(net,from_bus=b7, to_bus=b8,length_km=16.77, r_ohm_per_km = r_ohm, x_ohm_per_km = 0.321, c_nf_per_km = 1e-9, max_i_ka=0.975,geodata = [loc_b7, loc_b8])\n",
    "pp.create_line_from_parameters(net,from_bus=b7, to_bus=b8,length_km=16.06, r_ohm_per_km = r_ohm, x_ohm_per_km = 0.321, c_nf_per_km = 1e-9, max_i_ka=0.975,geodata = [loc_b7, loc_b8])\n",
    "pp.create_line_from_parameters(net,from_bus=b7, to_bus=b9,length_km=15.177, r_ohm_per_km = r_ohm, x_ohm_per_km = 0.321, c_nf_per_km = 1e-9, max_i_ka=0.975,geodata = [loc_b7, loc_b9])\n",
    "pp.create_line_from_parameters(net,from_bus=b7, to_bus=b9,length_km=14.954, r_ohm_per_km = r_ohm, x_ohm_per_km = 0.321, c_nf_per_km = 1e-9, max_i_ka=0.975,geodata = [loc_b7, loc_b9])\n",
    "pp.create_line_from_parameters(net,from_bus=b10, to_bus=b11,length_km=30.276, r_ohm_per_km = r_ohm, x_ohm_per_km = 0.306, c_nf_per_km = 1e-9, max_i_ka=0.975,geodata = [loc_b10, loc_b11])\n",
    "pp.create_line_from_parameters(net,from_bus=b11, to_bus=b12,length_km=52.942, r_ohm_per_km = 0.053, x_ohm_per_km = 0.119, c_nf_per_km = 1.7e-9, max_i_ka=0.545,geodata = [loc_b11, loc_b12])\n",
    "pp.create_line_from_parameters(net,from_bus=b12, to_bus=b13,length_km=8.201, r_ohm_per_km = r_ohm, x_ohm_per_km = 0.306, c_nf_per_km = 1e-9, max_i_ka=0.975,geodata = [loc_b12, loc_b13])\n",
    "pp.create_line_from_parameters(net,from_bus=b13, to_bus=b15,length_km=35.54, r_ohm_per_km = r_ohm, x_ohm_per_km = 0.306, c_nf_per_km = 1e-9, max_i_ka=0.975,geodata = [loc_b13, loc_b15])\n",
    "pp.create_line_from_parameters(net,from_bus=b13, to_bus=b14,length_km=21.132, r_ohm_per_km = r_ohm, x_ohm_per_km = 0.306, c_nf_per_km = 1e-9, max_i_ka=0.975,geodata = [loc_b13, loc_b14])\n",
    "pp.create_line_from_parameters(net,from_bus=b14, to_bus=b15,length_km=15.439, r_ohm_per_km = r_ohm, x_ohm_per_km = 0.306, c_nf_per_km = 1e-9, max_i_ka=0.975,geodata = [loc_b14, loc_b15])\n",
    "pp.create_line_from_parameters(net,from_bus=b15, to_bus=b16,length_km=4.712, r_ohm_per_km = r_ohm, x_ohm_per_km = 0.306, c_nf_per_km = 1e-9, max_i_ka=0.975,geodata = [loc_b15, loc_b16])\n",
    "\n",
    "\n",
    "\n",
    "\n",
    "\n",
    "net.line\n"
   ]
  },
  {
   "cell_type": "code",
   "execution_count": null,
   "id": "e6352d46",
   "metadata": {},
   "outputs": [],
   "source": [
    "# Power Flow Analysis\n",
    "pp.runpp(net,algorithm='nr');    "
   ]
  },
  {
   "cell_type": "code",
   "execution_count": null,
   "id": "155a51aa-ab32-4fde-95c9-3a4c36a537ab",
   "metadata": {},
   "outputs": [],
   "source": [
    "net.res_bus"
   ]
  },
  {
   "cell_type": "code",
   "execution_count": null,
   "id": "11433849-d4d4-489e-be6f-9d3290290ce1",
   "metadata": {},
   "outputs": [],
   "source": [
    "net.res_line"
   ]
  },
  {
   "cell_type": "code",
   "execution_count": null,
   "id": "a3267b34-2f05-436a-abe9-bbde95455742",
   "metadata": {},
   "outputs": [],
   "source": [
    "net.res_trafo"
   ]
  },
  {
   "cell_type": "code",
   "execution_count": null,
   "id": "11a75870",
   "metadata": {},
   "outputs": [],
   "source": [
    "net.res_ext_grid"
   ]
  },
  {
   "cell_type": "code",
   "execution_count": null,
   "id": "16013fab-0740-467a-84ec-6b4ff5c5e145",
   "metadata": {},
   "outputs": [],
   "source": [
    "net.res_load"
   ]
  },
  {
   "cell_type": "code",
   "execution_count": null,
   "id": "a4bef805-1fa3-4695-b6be-82530b916568",
   "metadata": {},
   "outputs": [],
   "source": [
    "net.res_gen"
   ]
  },
  {
   "cell_type": "code",
   "execution_count": null,
   "id": "20af86be-891a-4547-bba0-a63e019ecbf6",
   "metadata": {},
   "outputs": [],
   "source": [
    "simple_plotly(net)"
   ]
  },
  {
   "cell_type": "code",
   "execution_count": null,
   "id": "edb042b2-b58e-44a9-8fab-d9b6f08a825f",
   "metadata": {},
   "outputs": [],
   "source": [
    "#Question A\n",
    "\n",
    "S_base=480000000 #Rated power (Highest Apparent Power between the three transformers)\n",
    "V_base220=220000 #Base voltage \n",
    "V_base132=132000 #Base Voltage\n",
    "\n",
    "# Calculating the base impedances\n",
    "\n",
    "Z_base220=V_base220**2/S_base\n",
    "Z_base132=V_base132**2/S_base\n",
    "\n",
    "# Creation of the list to place the results\n",
    "x_pu=list(range(19))\n",
    "r_pu=list(range(19))\n",
    "p_pu=list(range(19))\n",
    "\n",
    "#Arrays of the line parameters\n",
    "\n",
    "line_info_r_ohm = np.array([0.053,0.07283,0.07283,0.07283,0.07283,0.07283,0.07283,0.07283,0.07283,0.07283,0.07283,0.07283,0.07283,0.053,0.07283,0.07283,0.07283,0.07283,0.07283],dtype=float)\n",
    "line_info_x_ohm = np.array([0.119,0.321,0.321,0.321,0.321,0.321,0.321,0.321,0.321,0.321,0.321,0.321,0.306,0.119,0.306,0.306,0.306,0.306,0.306],dtype=float)\n",
    "line_info_voltage = np.array([132,220,220,220,220,220,220,220,220,220,220,220,132,132,132,132,132,132,132],dtype=float)\n",
    "line_info_maxka= np.array([0.545,0.975,0.975,0.975,0.975,0.975,0.975,0.975,0.975,0.975,0.975,0.975,0.975,0.545,0.975,0.975,0.975,0.975,0.975],dtype=float)\n",
    "\n",
    "# Calculation of r,x and P in \"pu\"\n",
    "for i in range(19):\n",
    "    if line_info_voltage[i]==132:\n",
    "        Z_base=Z_base132\n",
    "    else:\n",
    "        Z_base=Z_base220\n",
    "    x_pu[i]=line_info_x_ohm[i]/Z_base*100\n",
    "    r_pu[i]=line_info_r_ohm[i]/Z_base*100\n",
    "    p_pu[i]=(line_info_voltage[i]*line_info_maxka[i])/S_base*1E6\n",
    "    \n",
    "\n",
    "line_pu=pd.DataFrame({'x_pu':x_pu, 'r_pu':r_pu, 'p_pu':p_pu})\n",
    "line_pu"
   ]
  },
  {
   "cell_type": "code",
   "execution_count": null,
   "id": "b21f8b61-889d-45b9-a8d8-53c580969da6",
   "metadata": {},
   "outputs": [],
   "source": [
    "# Question D\n",
    "\n",
    "from pandapower.plotting.plotly import pf_res_plotly\n",
    "pf_res_plotly(net)\n",
    "print(np.sum(net.gen['p_mw']))\n",
    "print(net.res_bus)"
   ]
  },
  {
   "cell_type": "code",
   "execution_count": null,
   "id": "a0cc4fe0-29c0-4ff5-9c89-904b5b016d24",
   "metadata": {},
   "outputs": [],
   "source": [
    "import seaborn\n",
    "import matplotlib.pyplot as plt\n",
    "\n",
    "\n",
    "pp.to_excel(net, 'BI_Part2.xlsx')\n",
    "\n",
    "colors = seaborn.color_palette()\n",
    "bc = pp.plotting.create_bus_collection(net, buses=net.res_bus.index, size=.03, color=colors[0], patch_type='circle', cmap='viridis', norm=None, \\\n",
    "                                       infofunc=None, picker=False, bus_geodata=None, cbar_title='Bus Voltage [pu]')\n",
    "if solar==0:\n",
    "    lc = pp.plotting.create_line_collection(net, lines=net.res_line.index, line_geodata=None, bus_geodata=None, use_bus_geodata=False,\\\n",
    "                                        infofunc=None, cmap='CMRmap', norm=None, picker=False, z=None, cbar_title='Line Loading [%]', clim=(0,100), plot_colormap=True)\n",
    "else:\n",
    "    lc = pp.plotting.create_line_collection(net, lines=net.res_line.index, line_geodata=None, bus_geodata=None, use_bus_geodata=False,\\\n",
    "                                        infofunc=None, cmap='hsv', norm=None, picker=False, z=None, cbar_title='Line Loading [%]', clim=(0,100), plot_colormap=True)\n",
    "\n",
    "\n",
    "pp.plotting.draw_collections([bc, lc])\n",
    "pp.plotting.to_html(net, 'ENG_BI_Part2.html', respect_switches=True, include_lines=True, include_trafos=True, show_tables=True)\n",
    "pp.to_json(net, \"ENG_BI_Part2.json\")\n"
   ]
  }
 ],
 "metadata": {
  "kernelspec": {
   "display_name": "geo_env",
   "language": "python",
   "name": "geo_env"
  },
  "language_info": {
   "codemirror_mode": {
    "name": "ipython",
    "version": 3
   },
   "file_extension": ".py",
   "mimetype": "text/x-python",
   "name": "python",
   "nbconvert_exporter": "python",
   "pygments_lexer": "ipython3",
   "version": "3.9.7"
  }
 },
 "nbformat": 4,
 "nbformat_minor": 5
}
